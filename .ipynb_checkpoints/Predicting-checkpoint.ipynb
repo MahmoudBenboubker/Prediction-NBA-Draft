{
 "cells": [
  {
   "cell_type": "markdown",
   "metadata": {},
   "source": [
    "# Prédiction (4/4)\n",
    "\n",
    "L'objectif de ce notebook est de trouver le meilleur modèle de classification binaire possible de Machine Learning pour prédire la selection à la draft d'un joueur universitaire.  \n",
    "\n",
    "Le dataset est composé d'environ 20 000 joueurs de la première division de la NCAA entre 2010-2019. \n",
    "\n",
    "Les labels à prédire sont : \n",
    "- 1 le joueur a été drafté\n",
    "- 0 le joueur n'a pas été drafté"
   ]
  },
  {
   "cell_type": "code",
   "execution_count": 1,
   "metadata": {
    "scrolled": true
   },
   "outputs": [],
   "source": [
    "import pandas as pd\n",
    "import matplotlib.pyplot as plt\n",
    "import numpy as np\n",
    "from sklearn.model_selection import train_test_split, cross_val_score, GridSearchCV\n",
    "from sklearn import metrics\n",
    "import seaborn as sns\n",
    "SEED = 22\n",
    "\n",
    "from sklearn.linear_model import LogisticRegression\n",
    "from sklearn.neighbors import KNeighborsClassifier\n",
    "from sklearn.tree import DecisionTreeClassifier\n",
    "from sklearn.ensemble import RandomForestClassifier\n",
    "\n",
    "\n",
    "import warnings\n",
    "warnings.filterwarnings('ignore')"
   ]
  },
  {
   "cell_type": "code",
   "execution_count": 2,
   "metadata": {
    "scrolled": true
   },
   "outputs": [
    {
     "data": {
      "text/html": [
       "<div>\n",
       "<style scoped>\n",
       "    .dataframe tbody tr th:only-of-type {\n",
       "        vertical-align: middle;\n",
       "    }\n",
       "\n",
       "    .dataframe tbody tr th {\n",
       "        vertical-align: top;\n",
       "    }\n",
       "\n",
       "    .dataframe thead th {\n",
       "        text-align: right;\n",
       "    }\n",
       "</style>\n",
       "<table border=\"1\" class=\"dataframe\">\n",
       "  <thead>\n",
       "    <tr style=\"text-align: right;\">\n",
       "      <th></th>\n",
       "      <th>player_id</th>\n",
       "      <th>name</th>\n",
       "      <th>Season</th>\n",
       "      <th>assist_percentage</th>\n",
       "      <th>assists</th>\n",
       "      <th>block_percentage</th>\n",
       "      <th>blocks</th>\n",
       "      <th>box_plus_minus</th>\n",
       "      <th>conference</th>\n",
       "      <th>defensive_box_plus_minus</th>\n",
       "      <th>...</th>\n",
       "      <th>turnovers</th>\n",
       "      <th>two_point_attempts</th>\n",
       "      <th>two_point_percentage</th>\n",
       "      <th>two_pointers</th>\n",
       "      <th>usage_percentage</th>\n",
       "      <th>weight</th>\n",
       "      <th>win_shares</th>\n",
       "      <th>win_shares_per_40_minutes</th>\n",
       "      <th>drafted</th>\n",
       "      <th>Ranking</th>\n",
       "    </tr>\n",
       "  </thead>\n",
       "  <tbody>\n",
       "    <tr>\n",
       "      <th>0</th>\n",
       "      <td>6903</td>\n",
       "      <td>Evan Washington</td>\n",
       "      <td>Career</td>\n",
       "      <td>19.2</td>\n",
       "      <td>2.637097</td>\n",
       "      <td>1.5</td>\n",
       "      <td>0.379032</td>\n",
       "      <td>1.300000</td>\n",
       "      <td>19</td>\n",
       "      <td>1.3000</td>\n",
       "      <td>...</td>\n",
       "      <td>2.032258</td>\n",
       "      <td>4.991935</td>\n",
       "      <td>0.477</td>\n",
       "      <td>2.379032</td>\n",
       "      <td>18.1</td>\n",
       "      <td>200.0</td>\n",
       "      <td>7.0</td>\n",
       "      <td>0.070</td>\n",
       "      <td>0</td>\n",
       "      <td>-100.0</td>\n",
       "    </tr>\n",
       "    <tr>\n",
       "      <th>1</th>\n",
       "      <td>14342</td>\n",
       "      <td>Michael Lyons</td>\n",
       "      <td>Career</td>\n",
       "      <td>15.3</td>\n",
       "      <td>1.860870</td>\n",
       "      <td>1.1</td>\n",
       "      <td>0.234783</td>\n",
       "      <td>2.400000</td>\n",
       "      <td>19</td>\n",
       "      <td>-1.2000</td>\n",
       "      <td>...</td>\n",
       "      <td>1.982609</td>\n",
       "      <td>6.547826</td>\n",
       "      <td>0.541</td>\n",
       "      <td>3.539130</td>\n",
       "      <td>26.7</td>\n",
       "      <td>193.0</td>\n",
       "      <td>9.0</td>\n",
       "      <td>0.103</td>\n",
       "      <td>0</td>\n",
       "      <td>-100.0</td>\n",
       "    </tr>\n",
       "    <tr>\n",
       "      <th>2</th>\n",
       "      <td>18829</td>\n",
       "      <td>Todd Fletcher</td>\n",
       "      <td>Career</td>\n",
       "      <td>22.5</td>\n",
       "      <td>2.951613</td>\n",
       "      <td>0.4</td>\n",
       "      <td>0.088710</td>\n",
       "      <td>1.200000</td>\n",
       "      <td>19</td>\n",
       "      <td>0.5000</td>\n",
       "      <td>...</td>\n",
       "      <td>1.387097</td>\n",
       "      <td>2.500000</td>\n",
       "      <td>0.555</td>\n",
       "      <td>1.387097</td>\n",
       "      <td>14.8</td>\n",
       "      <td>183.0</td>\n",
       "      <td>8.0</td>\n",
       "      <td>0.093</td>\n",
       "      <td>0</td>\n",
       "      <td>-100.0</td>\n",
       "    </tr>\n",
       "    <tr>\n",
       "      <th>3</th>\n",
       "      <td>1589</td>\n",
       "      <td>Avery Merriex</td>\n",
       "      <td>Career</td>\n",
       "      <td>12.4</td>\n",
       "      <td>0.657143</td>\n",
       "      <td>0.4</td>\n",
       "      <td>0.028571</td>\n",
       "      <td>-3.023823</td>\n",
       "      <td>19</td>\n",
       "      <td>-0.5633</td>\n",
       "      <td>...</td>\n",
       "      <td>0.600000</td>\n",
       "      <td>0.985714</td>\n",
       "      <td>0.420</td>\n",
       "      <td>0.414286</td>\n",
       "      <td>10.9</td>\n",
       "      <td>190.0</td>\n",
       "      <td>0.2</td>\n",
       "      <td>0.008</td>\n",
       "      <td>0</td>\n",
       "      <td>-100.0</td>\n",
       "    </tr>\n",
       "    <tr>\n",
       "      <th>4</th>\n",
       "      <td>17732</td>\n",
       "      <td>Shawn Hempsey</td>\n",
       "      <td>Career</td>\n",
       "      <td>19.5</td>\n",
       "      <td>0.795455</td>\n",
       "      <td>0.3</td>\n",
       "      <td>0.022727</td>\n",
       "      <td>-4.000000</td>\n",
       "      <td>19</td>\n",
       "      <td>0.7000</td>\n",
       "      <td>...</td>\n",
       "      <td>0.511364</td>\n",
       "      <td>0.659091</td>\n",
       "      <td>0.466</td>\n",
       "      <td>0.306818</td>\n",
       "      <td>12.4</td>\n",
       "      <td>180.0</td>\n",
       "      <td>0.2</td>\n",
       "      <td>0.010</td>\n",
       "      <td>0</td>\n",
       "      <td>-100.0</td>\n",
       "    </tr>\n",
       "  </tbody>\n",
       "</table>\n",
       "<p>5 rows × 55 columns</p>\n",
       "</div>"
      ],
      "text/plain": [
       "   player_id             name  Season  assist_percentage   assists  \\\n",
       "0       6903  Evan Washington  Career               19.2  2.637097   \n",
       "1      14342    Michael Lyons  Career               15.3  1.860870   \n",
       "2      18829    Todd Fletcher  Career               22.5  2.951613   \n",
       "3       1589    Avery Merriex  Career               12.4  0.657143   \n",
       "4      17732    Shawn Hempsey  Career               19.5  0.795455   \n",
       "\n",
       "   block_percentage    blocks  box_plus_minus  conference  \\\n",
       "0               1.5  0.379032        1.300000          19   \n",
       "1               1.1  0.234783        2.400000          19   \n",
       "2               0.4  0.088710        1.200000          19   \n",
       "3               0.4  0.028571       -3.023823          19   \n",
       "4               0.3  0.022727       -4.000000          19   \n",
       "\n",
       "   defensive_box_plus_minus  ...  turnovers  two_point_attempts  \\\n",
       "0                    1.3000  ...   2.032258            4.991935   \n",
       "1                   -1.2000  ...   1.982609            6.547826   \n",
       "2                    0.5000  ...   1.387097            2.500000   \n",
       "3                   -0.5633  ...   0.600000            0.985714   \n",
       "4                    0.7000  ...   0.511364            0.659091   \n",
       "\n",
       "   two_point_percentage  two_pointers  usage_percentage  weight  win_shares  \\\n",
       "0                 0.477      2.379032              18.1   200.0         7.0   \n",
       "1                 0.541      3.539130              26.7   193.0         9.0   \n",
       "2                 0.555      1.387097              14.8   183.0         8.0   \n",
       "3                 0.420      0.414286              10.9   190.0         0.2   \n",
       "4                 0.466      0.306818              12.4   180.0         0.2   \n",
       "\n",
       "   win_shares_per_40_minutes  drafted  Ranking  \n",
       "0                      0.070        0   -100.0  \n",
       "1                      0.103        0   -100.0  \n",
       "2                      0.093        0   -100.0  \n",
       "3                      0.008        0   -100.0  \n",
       "4                      0.010        0   -100.0  \n",
       "\n",
       "[5 rows x 55 columns]"
      ]
     },
     "execution_count": 2,
     "metadata": {},
     "output_type": "execute_result"
    }
   ],
   "source": [
    "df = pd.read_csv('data/ncaa_final.csv', index_col=0)\n",
    "df.head()"
   ]
  },
  {
   "cell_type": "code",
   "execution_count": 3,
   "metadata": {
    "scrolled": true
   },
   "outputs": [
    {
     "name": "stdout",
     "output_type": "stream",
     "text": [
      "Présence de joueurs non draftés : 98.0 %\n",
      "Présence de joueurs  draftés : 2.0 %\n"
     ]
    }
   ],
   "source": [
    "no_drafted, drafted = df[\"drafted\"].value_counts()\n",
    "print('Présence de joueurs non draftés :',round(no_drafted/df[\"drafted\"].count(),2)*100,'%')\n",
    "print('Présence de joueurs  draftés :', round(drafted/df[\"drafted\"].count(),2)*100,'%')"
   ]
  },
  {
   "cell_type": "markdown",
   "metadata": {},
   "source": [
    "## Premier Modèle : Regression Logistique "
   ]
  },
  {
   "cell_type": "markdown",
   "metadata": {},
   "source": [
    "Le premier modèle utilisé est la regression logistique avec des hyper-paramètres par défaut."
   ]
  },
  {
   "cell_type": "code",
   "execution_count": 4,
   "metadata": {
    "scrolled": true
   },
   "outputs": [],
   "source": [
    "X = df.drop(columns=[\"player_id\",\"name\",\"Season\",\"drafted\"])\n",
    "y = df[\"drafted\"]"
   ]
  },
  {
   "cell_type": "code",
   "execution_count": 5,
   "metadata": {
    "scrolled": true
   },
   "outputs": [],
   "source": [
    "X_train, X_test, y_train, y_test = train_test_split(X, y, test_size=0.2, random_state=SEED)"
   ]
  },
  {
   "cell_type": "code",
   "execution_count": 6,
   "metadata": {
    "scrolled": true
   },
   "outputs": [
    {
     "name": "stdout",
     "output_type": "stream",
     "text": [
      "              precision    recall  f1-score   support\n",
      "\n",
      " Not Drafted       0.98      1.00      0.99      4023\n",
      "     Drafted       0.60      0.29      0.39        87\n",
      "\n",
      "    accuracy                           0.98      4110\n",
      "   macro avg       0.79      0.64      0.69      4110\n",
      "weighted avg       0.98      0.98      0.98      4110\n",
      "\n"
     ]
    }
   ],
   "source": [
    "log_reg = LogisticRegression()\n",
    "log_reg.fit(X_train,y_train)\n",
    "y_pred = log_reg.predict(X_test)\n",
    "\n",
    "\n",
    "target_names = ['Not Drafted', 'Drafted']\n",
    "print(metrics.classification_report(y_test, y_pred,target_names=target_names))"
   ]
  },
  {
   "cell_type": "markdown",
   "metadata": {},
   "source": [
    "Bien qu'on remarque une accuracy à 0.98, le recall et le f1-score sont très faible (resp. 0.29 et 0.39)"
   ]
  },
  {
   "cell_type": "code",
   "execution_count": 7,
   "metadata": {
    "scrolled": true
   },
   "outputs": [
    {
     "data": {
      "text/plain": [
       "<sklearn.metrics._plot.confusion_matrix.ConfusionMatrixDisplay at 0x17c310e8730>"
      ]
     },
     "execution_count": 7,
     "metadata": {},
     "output_type": "execute_result"
    },
    {
     "data": {
      "image/png": "[encoded data removed]",
      "text/plain": [
       "<Figure size 432x288 with 2 Axes>"
      ]
     },
     "metadata": {
      "needs_background": "light"
     },
     "output_type": "display_data"
    }
   ],
   "source": [
    "metrics.plot_confusion_matrix(log_reg, X_test, y_test)"
   ]
  },
  {
   "cell_type": "code",
   "execution_count": 8,
   "metadata": {
    "scrolled": true
   },
   "outputs": [
    {
     "data": {
      "image/png": "[encoded data removed]",
      "text/plain": [
       "<Figure size 432x288 with 1 Axes>"
      ]
     },
     "metadata": {
      "needs_background": "light"
     },
     "output_type": "display_data"
    }
   ],
   "source": [
    "metrics.plot_roc_curve(log_reg, X_test, y_test);"
   ]
  },
  {
   "cell_type": "markdown",
   "metadata": {},
   "source": [
    "La métrique à ne pas prendre en considération est l'*accuracy* car nous sommes en situation d'*unbalanced dataset*.  \n",
    "Dans notre cas, le *recall* est plus intéressant.  \n",
    "Pour bien estimer la performance d'un modèle, on devrait s'intéresser au F1-score qui est un bon compromis entre le recall et la précision."
   ]
  },
  {
   "cell_type": "code",
   "execution_count": 9,
   "metadata": {
    "scrolled": true
   },
   "outputs": [
    {
     "data": {
      "text/plain": [
       "array([0.24137931, 0.41221374, 0.49689441, 0.49056604, 0.43786982])"
      ]
     },
     "execution_count": 9,
     "metadata": {},
     "output_type": "execute_result"
    }
   ],
   "source": [
    "cross_val_score(log_reg, X, y, cv=5, scoring='f1')"
   ]
  },
  {
   "cell_type": "markdown",
   "metadata": {},
   "source": [
    "### GridSearch_CV\n",
    "\n",
    "Pour tenter de trouver le meilleur modèle possible, on va utiliser un Gridsearch_cv en utilisant un crossvalidation à 5 folds et en utilisant 4 algorithmes : Régression logistique, KNN, Arbre de décisions et SVM"
   ]
  },
  {
   "cell_type": "code",
   "execution_count": 10,
   "metadata": {
    "scrolled": true
   },
   "outputs": [],
   "source": [
    "from sklearn.linear_model import LogisticRegression\n",
    "from sklearn.neighbors import KNeighborsClassifier\n",
    "from sklearn.tree import DecisionTreeClassifier\n",
    "from sklearn.svm import SVC\n",
    "\n",
    "models = [{'name': 'logreg','label': 'Logistic Regression',\n",
    "           'classifier': LogisticRegression(random_state=SEED),\n",
    "           'grid': {\"C\":np.logspace(-3,3,7), \"penalty\":[\"l1\",\"l2\"]}},\n",
    "          \n",
    "          {'name': 'knn','label':'K Nearest Neighbors',\n",
    "           'classifier':KNeighborsClassifier(),\n",
    "           'grid': {\"n_neighbors\":np.arange(8)+1}},\n",
    "          \n",
    "          {'name': 'dsc','label': 'Descision Tree', \n",
    "           'classifier': DecisionTreeClassifier(random_state=SEED),\n",
    "           'grid': {\"max_depth\":np.arange(8)+1}},\n",
    "          \n",
    "          {'name': 'svm_rbf', 'label': 'SVC (RBF)',\n",
    "           'classifier':SVC(random_state=SEED),\n",
    "           'grid': {'C': [1, 10, 100, 1000], 'gamma': [0.001, 0.0001], 'kernel': ['rbf']}}\n",
    "        \n",
    "        ]"
   ]
  },
  {
   "cell_type": "code",
   "execution_count": 11,
   "metadata": {
    "scrolled": true
   },
   "outputs": [
    {
     "name": "stdout",
     "output_type": "stream",
     "text": [
      "logreg\n",
      "completed\n",
      "knn\n",
      "completed\n",
      "dsc\n",
      "completed\n",
      "svm_rbf\n",
      "completed\n"
     ]
    }
   ],
   "source": [
    "def model_selection(classifier, name, grid, X, y, scoring):\n",
    "    \n",
    "    gridsearch_cv=GridSearchCV(classifier, \n",
    "                               grid,\n",
    "                               cv=5, \n",
    "                               scoring = scoring)\n",
    "    \n",
    "    gridsearch_cv.fit(X, y)\n",
    "    results_dict = {}\n",
    "    results_dict['classifier_name'] = name    \n",
    "    results_dict['classifier'] = gridsearch_cv.best_estimator_\n",
    "    results_dict['best_params'] = gridsearch_cv.best_params_\n",
    "    results_dict[scoring] = gridsearch_cv.best_score_\n",
    "    return(results_dict)\n",
    "\n",
    "results = []\n",
    "score = 'f1'\n",
    "for m in models:    \n",
    "    print(m['name'])    \n",
    "    results.append(model_selection(m['classifier'], \n",
    "                                   m['name'],\n",
    "                                   m['grid'],\n",
    "                                   X_train, \n",
    "                                   y_train, \n",
    "                                   score))      \n",
    "    print('completed')"
   ]
  },
  {
   "cell_type": "code",
   "execution_count": 12,
   "metadata": {
    "scrolled": true
   },
   "outputs": [
    {
     "data": {
      "text/html": [
       "<div>\n",
       "<style scoped>\n",
       "    .dataframe tbody tr th:only-of-type {\n",
       "        vertical-align: middle;\n",
       "    }\n",
       "\n",
       "    .dataframe tbody tr th {\n",
       "        vertical-align: top;\n",
       "    }\n",
       "\n",
       "    .dataframe thead th {\n",
       "        text-align: right;\n",
       "    }\n",
       "</style>\n",
       "<table border=\"1\" class=\"dataframe\">\n",
       "  <thead>\n",
       "    <tr style=\"text-align: right;\">\n",
       "      <th></th>\n",
       "      <th>classifier_name</th>\n",
       "      <th>classifier</th>\n",
       "      <th>best_params</th>\n",
       "      <th>f1</th>\n",
       "    </tr>\n",
       "  </thead>\n",
       "  <tbody>\n",
       "    <tr>\n",
       "      <th>3</th>\n",
       "      <td>svm_rbf</td>\n",
       "      <td>SVC(C=100, gamma=0.0001, random_state=22)</td>\n",
       "      <td>{'C': 100, 'gamma': 0.0001, 'kernel': 'rbf'}</td>\n",
       "      <td>0.491559</td>\n",
       "    </tr>\n",
       "    <tr>\n",
       "      <th>2</th>\n",
       "      <td>dsc</td>\n",
       "      <td>DecisionTreeClassifier(max_depth=8, random_sta...</td>\n",
       "      <td>{'max_depth': 8}</td>\n",
       "      <td>0.481640</td>\n",
       "    </tr>\n",
       "    <tr>\n",
       "      <th>0</th>\n",
       "      <td>logreg</td>\n",
       "      <td>LogisticRegression(random_state=22)</td>\n",
       "      <td>{'C': 1.0, 'penalty': 'l2'}</td>\n",
       "      <td>0.417739</td>\n",
       "    </tr>\n",
       "    <tr>\n",
       "      <th>1</th>\n",
       "      <td>knn</td>\n",
       "      <td>KNeighborsClassifier(n_neighbors=7)</td>\n",
       "      <td>{'n_neighbors': 7}</td>\n",
       "      <td>0.365325</td>\n",
       "    </tr>\n",
       "  </tbody>\n",
       "</table>\n",
       "</div>"
      ],
      "text/plain": [
       "  classifier_name                                         classifier  \\\n",
       "3         svm_rbf          SVC(C=100, gamma=0.0001, random_state=22)   \n",
       "2             dsc  DecisionTreeClassifier(max_depth=8, random_sta...   \n",
       "0          logreg                LogisticRegression(random_state=22)   \n",
       "1             knn                KNeighborsClassifier(n_neighbors=7)   \n",
       "\n",
       "                                    best_params        f1  \n",
       "3  {'C': 100, 'gamma': 0.0001, 'kernel': 'rbf'}  0.491559  \n",
       "2                              {'max_depth': 8}  0.481640  \n",
       "0                   {'C': 1.0, 'penalty': 'l2'}  0.417739  \n",
       "1                            {'n_neighbors': 7}  0.365325  "
      ]
     },
     "execution_count": 12,
     "metadata": {},
     "output_type": "execute_result"
    }
   ],
   "source": [
    "results_df = pd.DataFrame(results).sort_values(by=score, ascending = False)\n",
    "results_df"
   ]
  },
  {
   "cell_type": "code",
   "execution_count": 13,
   "metadata": {},
   "outputs": [
    {
     "name": "stdout",
     "output_type": "stream",
     "text": [
      "              precision    recall  f1-score   support\n",
      "\n",
      " Not Drafted       0.98      1.00      0.99      4023\n",
      "     Drafted       0.60      0.29      0.39        87\n",
      "\n",
      "    accuracy                           0.98      4110\n",
      "   macro avg       0.79      0.64      0.69      4110\n",
      "weighted avg       0.98      0.98      0.98      4110\n",
      "\n"
     ]
    },
    {
     "data": {
      "image/png": "[encoded data removed]",
      "text/plain": [
       "<Figure size 432x288 with 1 Axes>"
      ]
     },
     "metadata": {
      "needs_background": "light"
     },
     "output_type": "display_data"
    }
   ],
   "source": [
    "dtc = SVC(C=100, gamma=0.0001, random_state=SEED)  \n",
    "dtc.fit(X_train, y_train)\n",
    "target_names = ['Not Drafted', 'Drafted']\n",
    "print(metrics.classification_report(y_test, y_pred,target_names=target_names))\n",
    "metrics.plot_roc_curve(dtc, X_test, y_test);"
   ]
  },
  {
   "cell_type": "code",
   "execution_count": 14,
   "metadata": {
    "scrolled": true
   },
   "outputs": [
    {
     "data": {
      "text/plain": [
       "<sklearn.metrics._plot.confusion_matrix.ConfusionMatrixDisplay at 0x17c32f76eb0>"
      ]
     },
     "execution_count": 14,
     "metadata": {},
     "output_type": "execute_result"
    },
    {
     "data": {
      "image/png": "[encoded data removed]",
      "text/plain": [
       "<Figure size 432x288 with 2 Axes>"
      ]
     },
     "metadata": {
      "needs_background": "light"
     },
     "output_type": "display_data"
    }
   ],
   "source": [
    "metrics.plot_confusion_matrix(dtc, X_test, y_test)"
   ]
  },
  {
   "cell_type": "markdown",
   "metadata": {},
   "source": [
    "Malgré, le GridSearchCV on retrouve qu'un f1 score de 0.49 ce qui est moins bon qu'un DummyClassifier."
   ]
  },
  {
   "cell_type": "markdown",
   "metadata": {},
   "source": [
    "Use better features, sometimes a domain expert (specific to the problem you're trying to solve) can give relevant pointers that can result in significant improvements.\n",
    "\n",
    "Use a better classification algorithm and better hyper-parameters.\n",
    "\n",
    "Over-sample the minority class, and/or under-sample the majority class to reduce the class imbalance.\n",
    "\n",
    "Use higher weights for the minority class, although I've found over-under sampling to be more effective than using weights.\n",
    "\n",
    "Choose an optimal cutoff value to convert the continuous valued class probabilities output by your algorithm into a class label. This is as important as a good AUC metric but is overlooked quite often. A word of caution though: the choice of the cutoff should be guided by the users by evaluating the relevant trade-offs."
   ]
  },
  {
   "cell_type": "markdown",
   "metadata": {},
   "source": [
    "## Tentative d'amélioration"
   ]
  },
  {
   "cell_type": "markdown",
   "metadata": {},
   "source": [
    "### PCA"
   ]
  },
  {
   "cell_type": "code",
   "execution_count": 18,
   "metadata": {},
   "outputs": [],
   "source": [
    "from sklearn.preprocessing import StandardScaler\n",
    "\n",
    "sc = StandardScaler()\n",
    "X_train = sc.fit_transform(X_train)\n",
    "X_test = sc.transform(X_test)"
   ]
  },
  {
   "cell_type": "code",
   "execution_count": 19,
   "metadata": {},
   "outputs": [],
   "source": [
    "from sklearn.decomposition import PCA\n",
    "\n",
    "pca = PCA()\n",
    "X_train = pca.fit_transform(X_train)\n",
    "X_test = pca.transform(X_test)"
   ]
  },
  {
   "cell_type": "code",
   "execution_count": 22,
   "metadata": {},
   "outputs": [
    {
     "name": "stdout",
     "output_type": "stream",
     "text": [
      "logreg\n",
      "completed\n",
      "knn\n",
      "completed\n",
      "dsc\n",
      "completed\n",
      "svm_rbf\n",
      "completed\n"
     ]
    },
    {
     "data": {
      "text/html": [
       "<div>\n",
       "<style scoped>\n",
       "    .dataframe tbody tr th:only-of-type {\n",
       "        vertical-align: middle;\n",
       "    }\n",
       "\n",
       "    .dataframe tbody tr th {\n",
       "        vertical-align: top;\n",
       "    }\n",
       "\n",
       "    .dataframe thead th {\n",
       "        text-align: right;\n",
       "    }\n",
       "</style>\n",
       "<table border=\"1\" class=\"dataframe\">\n",
       "  <thead>\n",
       "    <tr style=\"text-align: right;\">\n",
       "      <th></th>\n",
       "      <th>classifier_name</th>\n",
       "      <th>classifier</th>\n",
       "      <th>best_params</th>\n",
       "      <th>f1</th>\n",
       "    </tr>\n",
       "  </thead>\n",
       "  <tbody>\n",
       "    <tr>\n",
       "      <th>3</th>\n",
       "      <td>svm_rbf</td>\n",
       "      <td>SVC(C=1000, gamma=0.001, random_state=22)</td>\n",
       "      <td>{'C': 1000, 'gamma': 0.001, 'kernel': 'rbf'}</td>\n",
       "      <td>0.521394</td>\n",
       "    </tr>\n",
       "    <tr>\n",
       "      <th>0</th>\n",
       "      <td>logreg</td>\n",
       "      <td>LogisticRegression(C=100.0, random_state=22)</td>\n",
       "      <td>{'C': 100.0, 'penalty': 'l2'}</td>\n",
       "      <td>0.465467</td>\n",
       "    </tr>\n",
       "    <tr>\n",
       "      <th>2</th>\n",
       "      <td>dsc</td>\n",
       "      <td>DecisionTreeClassifier(max_depth=6, random_sta...</td>\n",
       "      <td>{'max_depth': 6}</td>\n",
       "      <td>0.366356</td>\n",
       "    </tr>\n",
       "    <tr>\n",
       "      <th>1</th>\n",
       "      <td>knn</td>\n",
       "      <td>KNeighborsClassifier(n_neighbors=3)</td>\n",
       "      <td>{'n_neighbors': 3}</td>\n",
       "      <td>0.346126</td>\n",
       "    </tr>\n",
       "  </tbody>\n",
       "</table>\n",
       "</div>"
      ],
      "text/plain": [
       "  classifier_name                                         classifier  \\\n",
       "3         svm_rbf          SVC(C=1000, gamma=0.001, random_state=22)   \n",
       "0          logreg       LogisticRegression(C=100.0, random_state=22)   \n",
       "2             dsc  DecisionTreeClassifier(max_depth=6, random_sta...   \n",
       "1             knn                KNeighborsClassifier(n_neighbors=3)   \n",
       "\n",
       "                                    best_params        f1  \n",
       "3  {'C': 1000, 'gamma': 0.001, 'kernel': 'rbf'}  0.521394  \n",
       "0                 {'C': 100.0, 'penalty': 'l2'}  0.465467  \n",
       "2                              {'max_depth': 6}  0.366356  \n",
       "1                            {'n_neighbors': 3}  0.346126  "
      ]
     },
     "execution_count": 22,
     "metadata": {},
     "output_type": "execute_result"
    }
   ],
   "source": [
    "results = []\n",
    "score = 'f1'\n",
    "for m in models:    \n",
    "    print(m['name'])    \n",
    "    results.append(model_selection(m['classifier'], \n",
    "                                   m['name'],\n",
    "                                   m['grid'],\n",
    "                                   X_train, \n",
    "                                   y_train, \n",
    "                                   score))      \n",
    "    print('completed')\n",
    "\n",
    "results_df = pd.DataFrame(results).sort_values(by=score, ascending = False)\n",
    "results_df"
   ]
  },
  {
   "cell_type": "code",
   "execution_count": 32,
   "metadata": {},
   "outputs": [
    {
     "name": "stdout",
     "output_type": "stream",
     "text": [
      "              precision    recall  f1-score   support\n",
      "\n",
      " Not Drafted       0.98      1.00      0.99      4023\n",
      "     Drafted       0.60      0.29      0.39        87\n",
      "\n",
      "    accuracy                           0.98      4110\n",
      "   macro avg       0.79      0.64      0.69      4110\n",
      "weighted avg       0.98      0.98      0.98      4110\n",
      "\n"
     ]
    },
    {
     "data": {
      "image/png": "[encoded data removed]",
      "text/plain": [
       "<Figure size 432x288 with 2 Axes>"
      ]
     },
     "metadata": {
      "needs_background": "light"
     },
     "output_type": "display_data"
    }
   ],
   "source": [
    "dtc = SVC(C=1000, gamma=0.001, kernel='rbf')  \n",
    "dtc.fit(X_train, y_train)\n",
    "target_names = ['Not Drafted', 'Drafted']\n",
    "print(metrics.classification_report(y_test, y_pred,target_names=target_names))\n",
    "metrics.plot_confusion_matrix(dtc, X_test, y_test);"
   ]
  },
  {
   "cell_type": "markdown",
   "metadata": {},
   "source": [
    "Le nombre de faux positifs baisse. "
   ]
  },
  {
   "cell_type": "code",
   "execution_count": null,
   "metadata": {},
   "outputs": [],
   "source": []
  }
 ],
 "metadata": {
  "kernelspec": {
   "display_name": "Python 3",
   "language": "python",
   "name": "python3"
  },
  "language_info": {
   "codemirror_mode": {
    "name": "ipython",
    "version": 3
   },
   "file_extension": ".py",
   "mimetype": "text/x-python",
   "name": "python",
   "nbconvert_exporter": "python",
   "pygments_lexer": "ipython3",
   "version": "3.8.3"
  }
 },
 "nbformat": 4,
 "nbformat_minor": 4
}
