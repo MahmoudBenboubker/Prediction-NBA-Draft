{
 "cells": [
  {
   "cell_type": "markdown",
   "metadata": {},
   "source": [
    "# Prédiction (4/4)\n",
    "\n",
    "L'objectif de ce notebook est de trouver le meilleur modèle de classification binaire possible de Machine Learning pour prédire la selection à la draft d'un joueur universitaire.  \n",
    "\n",
    "Le dataset est composé d'environ 20 000 joueurs de la première division de la NCAA entre 2010-2019. \n",
    "\n",
    "Les labels à prédire sont : \n",
    "- 1 le joueur a été drafté\n",
    "- 0 le joueur n'a pas été drafté"
   ]
  },
  {
   "cell_type": "code",
   "execution_count": 17,
   "metadata": {},
   "outputs": [],
   "source": [
    "import pandas as pd\n",
    "import matplotlib.pyplot as plt\n",
    "import numpy as np\n",
    "from sklearn.model_selection import train_test_split, cross_val_score\n",
    "from sklearn import metrics\n",
    "import seaborn as sns\n",
    "SEED = 22\n",
    "\n",
    "from sklearn.linear_model import LogisticRegression\n",
    "from sklearn.neighbors import KNeighborsClassifier\n",
    "from sklearn.tree import DecisionTreeClassifier\n",
    "from sklearn.ensemble import RandomForestClassifier\n",
    "\n",
    "\n",
    "import warnings\n",
    "warnings.filterwarnings('ignore')"
   ]
  },
  {
   "cell_type": "code",
   "execution_count": 11,
   "metadata": {},
   "outputs": [
    {
     "data": {
      "text/html": [
       "<div>\n",
       "<style scoped>\n",
       "    .dataframe tbody tr th:only-of-type {\n",
       "        vertical-align: middle;\n",
       "    }\n",
       "\n",
       "    .dataframe tbody tr th {\n",
       "        vertical-align: top;\n",
       "    }\n",
       "\n",
       "    .dataframe thead th {\n",
       "        text-align: right;\n",
       "    }\n",
       "</style>\n",
       "<table border=\"1\" class=\"dataframe\">\n",
       "  <thead>\n",
       "    <tr style=\"text-align: right;\">\n",
       "      <th></th>\n",
       "      <th>player_id</th>\n",
       "      <th>name</th>\n",
       "      <th>Season</th>\n",
       "      <th>assist_percentage</th>\n",
       "      <th>assists</th>\n",
       "      <th>block_percentage</th>\n",
       "      <th>blocks</th>\n",
       "      <th>box_plus_minus</th>\n",
       "      <th>conference</th>\n",
       "      <th>defensive_box_plus_minus</th>\n",
       "      <th>...</th>\n",
       "      <th>turnovers</th>\n",
       "      <th>two_point_attempts</th>\n",
       "      <th>two_point_percentage</th>\n",
       "      <th>two_pointers</th>\n",
       "      <th>usage_percentage</th>\n",
       "      <th>weight</th>\n",
       "      <th>win_shares</th>\n",
       "      <th>win_shares_per_40_minutes</th>\n",
       "      <th>drafted</th>\n",
       "      <th>Ranking</th>\n",
       "    </tr>\n",
       "  </thead>\n",
       "  <tbody>\n",
       "    <tr>\n",
       "      <th>0</th>\n",
       "      <td>6903</td>\n",
       "      <td>Evan Washington</td>\n",
       "      <td>Career</td>\n",
       "      <td>19.2</td>\n",
       "      <td>2.637097</td>\n",
       "      <td>1.5</td>\n",
       "      <td>0.379032</td>\n",
       "      <td>1.300000</td>\n",
       "      <td>19</td>\n",
       "      <td>1.3000</td>\n",
       "      <td>...</td>\n",
       "      <td>2.032258</td>\n",
       "      <td>4.991935</td>\n",
       "      <td>0.477</td>\n",
       "      <td>2.379032</td>\n",
       "      <td>18.1</td>\n",
       "      <td>200.0</td>\n",
       "      <td>7.0</td>\n",
       "      <td>0.070</td>\n",
       "      <td>0</td>\n",
       "      <td>-100.0</td>\n",
       "    </tr>\n",
       "    <tr>\n",
       "      <th>1</th>\n",
       "      <td>14342</td>\n",
       "      <td>Michael Lyons</td>\n",
       "      <td>Career</td>\n",
       "      <td>15.3</td>\n",
       "      <td>1.860870</td>\n",
       "      <td>1.1</td>\n",
       "      <td>0.234783</td>\n",
       "      <td>2.400000</td>\n",
       "      <td>19</td>\n",
       "      <td>-1.2000</td>\n",
       "      <td>...</td>\n",
       "      <td>1.982609</td>\n",
       "      <td>6.547826</td>\n",
       "      <td>0.541</td>\n",
       "      <td>3.539130</td>\n",
       "      <td>26.7</td>\n",
       "      <td>193.0</td>\n",
       "      <td>9.0</td>\n",
       "      <td>0.103</td>\n",
       "      <td>0</td>\n",
       "      <td>-100.0</td>\n",
       "    </tr>\n",
       "    <tr>\n",
       "      <th>2</th>\n",
       "      <td>18829</td>\n",
       "      <td>Todd Fletcher</td>\n",
       "      <td>Career</td>\n",
       "      <td>22.5</td>\n",
       "      <td>2.951613</td>\n",
       "      <td>0.4</td>\n",
       "      <td>0.088710</td>\n",
       "      <td>1.200000</td>\n",
       "      <td>19</td>\n",
       "      <td>0.5000</td>\n",
       "      <td>...</td>\n",
       "      <td>1.387097</td>\n",
       "      <td>2.500000</td>\n",
       "      <td>0.555</td>\n",
       "      <td>1.387097</td>\n",
       "      <td>14.8</td>\n",
       "      <td>183.0</td>\n",
       "      <td>8.0</td>\n",
       "      <td>0.093</td>\n",
       "      <td>0</td>\n",
       "      <td>-100.0</td>\n",
       "    </tr>\n",
       "    <tr>\n",
       "      <th>3</th>\n",
       "      <td>1589</td>\n",
       "      <td>Avery Merriex</td>\n",
       "      <td>Career</td>\n",
       "      <td>12.4</td>\n",
       "      <td>0.657143</td>\n",
       "      <td>0.4</td>\n",
       "      <td>0.028571</td>\n",
       "      <td>-3.023823</td>\n",
       "      <td>19</td>\n",
       "      <td>-0.5633</td>\n",
       "      <td>...</td>\n",
       "      <td>0.600000</td>\n",
       "      <td>0.985714</td>\n",
       "      <td>0.420</td>\n",
       "      <td>0.414286</td>\n",
       "      <td>10.9</td>\n",
       "      <td>190.0</td>\n",
       "      <td>0.2</td>\n",
       "      <td>0.008</td>\n",
       "      <td>0</td>\n",
       "      <td>-100.0</td>\n",
       "    </tr>\n",
       "    <tr>\n",
       "      <th>4</th>\n",
       "      <td>17732</td>\n",
       "      <td>Shawn Hempsey</td>\n",
       "      <td>Career</td>\n",
       "      <td>19.5</td>\n",
       "      <td>0.795455</td>\n",
       "      <td>0.3</td>\n",
       "      <td>0.022727</td>\n",
       "      <td>-4.000000</td>\n",
       "      <td>19</td>\n",
       "      <td>0.7000</td>\n",
       "      <td>...</td>\n",
       "      <td>0.511364</td>\n",
       "      <td>0.659091</td>\n",
       "      <td>0.466</td>\n",
       "      <td>0.306818</td>\n",
       "      <td>12.4</td>\n",
       "      <td>180.0</td>\n",
       "      <td>0.2</td>\n",
       "      <td>0.010</td>\n",
       "      <td>0</td>\n",
       "      <td>-100.0</td>\n",
       "    </tr>\n",
       "  </tbody>\n",
       "</table>\n",
       "<p>5 rows × 55 columns</p>\n",
       "</div>"
      ],
      "text/plain": [
       "   player_id             name  Season  assist_percentage   assists  \\\n",
       "0       6903  Evan Washington  Career               19.2  2.637097   \n",
       "1      14342    Michael Lyons  Career               15.3  1.860870   \n",
       "2      18829    Todd Fletcher  Career               22.5  2.951613   \n",
       "3       1589    Avery Merriex  Career               12.4  0.657143   \n",
       "4      17732    Shawn Hempsey  Career               19.5  0.795455   \n",
       "\n",
       "   block_percentage    blocks  box_plus_minus  conference  \\\n",
       "0               1.5  0.379032        1.300000          19   \n",
       "1               1.1  0.234783        2.400000          19   \n",
       "2               0.4  0.088710        1.200000          19   \n",
       "3               0.4  0.028571       -3.023823          19   \n",
       "4               0.3  0.022727       -4.000000          19   \n",
       "\n",
       "   defensive_box_plus_minus  ...  turnovers  two_point_attempts  \\\n",
       "0                    1.3000  ...   2.032258            4.991935   \n",
       "1                   -1.2000  ...   1.982609            6.547826   \n",
       "2                    0.5000  ...   1.387097            2.500000   \n",
       "3                   -0.5633  ...   0.600000            0.985714   \n",
       "4                    0.7000  ...   0.511364            0.659091   \n",
       "\n",
       "   two_point_percentage  two_pointers  usage_percentage  weight  win_shares  \\\n",
       "0                 0.477      2.379032              18.1   200.0         7.0   \n",
       "1                 0.541      3.539130              26.7   193.0         9.0   \n",
       "2                 0.555      1.387097              14.8   183.0         8.0   \n",
       "3                 0.420      0.414286              10.9   190.0         0.2   \n",
       "4                 0.466      0.306818              12.4   180.0         0.2   \n",
       "\n",
       "   win_shares_per_40_minutes  drafted  Ranking  \n",
       "0                      0.070        0   -100.0  \n",
       "1                      0.103        0   -100.0  \n",
       "2                      0.093        0   -100.0  \n",
       "3                      0.008        0   -100.0  \n",
       "4                      0.010        0   -100.0  \n",
       "\n",
       "[5 rows x 55 columns]"
      ]
     },
     "execution_count": 11,
     "metadata": {},
     "output_type": "execute_result"
    }
   ],
   "source": [
    "df = pd.read_csv('data/ncaa_final.csv', index_col=0)\n",
    "df.head()"
   ]
  },
  {
   "cell_type": "code",
   "execution_count": 12,
   "metadata": {},
   "outputs": [
    {
     "name": "stdout",
     "output_type": "stream",
     "text": [
      "Présence de joueurs non draftés : 98.0 %\n",
      "Présence de joueurs  draftés : 2.0 %\n"
     ]
    }
   ],
   "source": [
    "no_drafted, drafted = df[\"drafted\"].value_counts()\n",
    "print('Présence de joueurs non draftés :',round(no_drafted/df[\"drafted\"].count(),2)*100,'%')\n",
    "print('Présence de joueurs  draftés :', round(drafted/df[\"drafted\"].count(),2)*100,'%')"
   ]
  },
  {
   "cell_type": "markdown",
   "metadata": {},
   "source": [
    "## Regression Logistique "
   ]
  },
  {
   "cell_type": "code",
   "execution_count": 13,
   "metadata": {},
   "outputs": [],
   "source": [
    "X = df.drop(columns=[\"player_id\",\"name\",\"Season\"])\n",
    "y = df[\"drafted\"]"
   ]
  },
  {
   "cell_type": "code",
   "execution_count": 36,
   "metadata": {},
   "outputs": [],
   "source": [
    "X_train, X_test, y_train, y_test = train_test_split(X, y, test_size=0.33, random_state=SEED)"
   ]
  },
  {
   "cell_type": "code",
   "execution_count": 37,
   "metadata": {},
   "outputs": [
    {
     "name": "stdout",
     "output_type": "stream",
     "text": [
      "              precision    recall  f1-score   support\n",
      "\n",
      " Not Drafted       0.99      1.00      0.99      6635\n",
      "     Drafted       0.72      0.55      0.63       147\n",
      "\n",
      "    accuracy                           0.99      6782\n",
      "   macro avg       0.86      0.77      0.81      6782\n",
      "weighted avg       0.98      0.99      0.98      6782\n",
      "\n"
     ]
    }
   ],
   "source": [
    "log_reg = LogisticRegression()\n",
    "log_reg.fit(X_train,y_train)\n",
    "y_pred = log_reg.predict(X_test)\n",
    "\n",
    "\n",
    "target_names = ['Not Drafted', 'Drafted']\n",
    "print(metrics.classification_report(y_test, y_pred,target_names=target_names))"
   ]
  },
  {
   "cell_type": "markdown",
   "metadata": {},
   "source": [
    "high recall + high precision : the class is perfectly handled by the model  \n",
    "\n",
    "low recall + high precision : the model can’t detect the class well but is highly trustable when it does  \n",
    "\n",
    "high recall + low precision : the class is well detected but the model also include points of other classes in it  \n",
    "\n",
    "low recall + low precision : the class is poorly handled by the model"
   ]
  },
  {
   "cell_type": "code",
   "execution_count": 38,
   "metadata": {},
   "outputs": [
    {
     "data": {
      "image/png": "[encoded data removed]",
      "text/plain": [
       "<Figure size 432x288 with 2 Axes>"
      ]
     },
     "metadata": {
      "needs_background": "light"
     },
     "output_type": "display_data"
    }
   ],
   "source": [
    "sns.heatmap(metrics.confusion_matrix(y_test, y_pred),annot=True, annot_kws={\"size\": 16});"
   ]
  },
  {
   "cell_type": "code",
   "execution_count": 39,
   "metadata": {},
   "outputs": [
    {
     "data": {
      "text/plain": [
       "<sklearn.metrics._plot.roc_curve.RocCurveDisplay at 0x26470c33730>"
      ]
     },
     "execution_count": 39,
     "metadata": {},
     "output_type": "execute_result"
    },
    {
     "data": {
      "image/png": "[encoded data removed]",
      "text/plain": [
       "<Figure size 432x288 with 1 Axes>"
      ]
     },
     "metadata": {
      "needs_background": "light"
     },
     "output_type": "display_data"
    }
   ],
   "source": [
    "metrics.plot_roc_curve(log_reg, X_test, y_test)"
   ]
  },
  {
   "cell_type": "markdown",
   "metadata": {},
   "source": []
  },
  {
   "cell_type": "markdown",
   "metadata": {},
   "source": [
    "### Random Under-Sampling  \n",
    "\n",
    "Nous sommes en situation d' **Imbalanced Datasets**  \n",
    "De ce fait, nous devons créer un *subsample** où nous avons 50% de joueurs draftés et 50% de joueurs non draftés"
   ]
  },
  {
   "cell_type": "code",
   "execution_count": 4,
   "metadata": {},
   "outputs": [
    {
     "data": {
      "text/html": [
       "<div>\n",
       "<style scoped>\n",
       "    .dataframe tbody tr th:only-of-type {\n",
       "        vertical-align: middle;\n",
       "    }\n",
       "\n",
       "    .dataframe tbody tr th {\n",
       "        vertical-align: top;\n",
       "    }\n",
       "\n",
       "    .dataframe thead th {\n",
       "        text-align: right;\n",
       "    }\n",
       "</style>\n",
       "<table border=\"1\" class=\"dataframe\">\n",
       "  <thead>\n",
       "    <tr style=\"text-align: right;\">\n",
       "      <th></th>\n",
       "      <th>player_id</th>\n",
       "      <th>name</th>\n",
       "      <th>Season</th>\n",
       "      <th>assist_percentage</th>\n",
       "      <th>assists</th>\n",
       "      <th>block_percentage</th>\n",
       "      <th>blocks</th>\n",
       "      <th>box_plus_minus</th>\n",
       "      <th>conference</th>\n",
       "      <th>defensive_box_plus_minus</th>\n",
       "      <th>...</th>\n",
       "      <th>turnovers</th>\n",
       "      <th>two_point_attempts</th>\n",
       "      <th>two_point_percentage</th>\n",
       "      <th>two_pointers</th>\n",
       "      <th>usage_percentage</th>\n",
       "      <th>weight</th>\n",
       "      <th>win_shares</th>\n",
       "      <th>win_shares_per_40_minutes</th>\n",
       "      <th>drafted</th>\n",
       "      <th>Ranking</th>\n",
       "    </tr>\n",
       "  </thead>\n",
       "  <tbody>\n",
       "    <tr>\n",
       "      <th>15026</th>\n",
       "      <td>15122</td>\n",
       "      <td>Nerlens Noel</td>\n",
       "      <td>Career</td>\n",
       "      <td>9.5</td>\n",
       "      <td>1.583333</td>\n",
       "      <td>13.2</td>\n",
       "      <td>4.416667</td>\n",
       "      <td>12.1</td>\n",
       "      <td>24</td>\n",
       "      <td>7.8</td>\n",
       "      <td>...</td>\n",
       "      <td>1.875000</td>\n",
       "      <td>6.916667</td>\n",
       "      <td>0.590</td>\n",
       "      <td>4.083333</td>\n",
       "      <td>17.4</td>\n",
       "      <td>228.0</td>\n",
       "      <td>3.9</td>\n",
       "      <td>0.206000</td>\n",
       "      <td>1</td>\n",
       "      <td>1.0</td>\n",
       "    </tr>\n",
       "    <tr>\n",
       "      <th>16399</th>\n",
       "      <td>11206</td>\n",
       "      <td>Justin Jackson</td>\n",
       "      <td>Career</td>\n",
       "      <td>15.6</td>\n",
       "      <td>2.661017</td>\n",
       "      <td>1.3</td>\n",
       "      <td>0.381356</td>\n",
       "      <td>8.4</td>\n",
       "      <td>1</td>\n",
       "      <td>2.0</td>\n",
       "      <td>...</td>\n",
       "      <td>1.381356</td>\n",
       "      <td>7.161017</td>\n",
       "      <td>0.529</td>\n",
       "      <td>3.788136</td>\n",
       "      <td>23.3</td>\n",
       "      <td>193.0</td>\n",
       "      <td>9.7</td>\n",
       "      <td>0.082468</td>\n",
       "      <td>1</td>\n",
       "      <td>9.0</td>\n",
       "    </tr>\n",
       "    <tr>\n",
       "      <th>15156</th>\n",
       "      <td>18804</td>\n",
       "      <td>T.J. Warren</td>\n",
       "      <td>Career</td>\n",
       "      <td>7.4</td>\n",
       "      <td>0.971429</td>\n",
       "      <td>1.7</td>\n",
       "      <td>0.514286</td>\n",
       "      <td>9.6</td>\n",
       "      <td>1</td>\n",
       "      <td>1.7</td>\n",
       "      <td>...</td>\n",
       "      <td>1.671429</td>\n",
       "      <td>11.542857</td>\n",
       "      <td>0.598</td>\n",
       "      <td>6.900000</td>\n",
       "      <td>28.6</td>\n",
       "      <td>233.0</td>\n",
       "      <td>10.6</td>\n",
       "      <td>0.194000</td>\n",
       "      <td>1</td>\n",
       "      <td>27.0</td>\n",
       "    </tr>\n",
       "    <tr>\n",
       "      <th>301</th>\n",
       "      <td>10656</td>\n",
       "      <td>Jorge Gutierrez</td>\n",
       "      <td>Career</td>\n",
       "      <td>23.7</td>\n",
       "      <td>3.279070</td>\n",
       "      <td>0.5</td>\n",
       "      <td>0.116279</td>\n",
       "      <td>5.4</td>\n",
       "      <td>22</td>\n",
       "      <td>2.7</td>\n",
       "      <td>...</td>\n",
       "      <td>2.124031</td>\n",
       "      <td>5.496124</td>\n",
       "      <td>0.461</td>\n",
       "      <td>2.534884</td>\n",
       "      <td>21.8</td>\n",
       "      <td>195.0</td>\n",
       "      <td>10.6</td>\n",
       "      <td>0.124000</td>\n",
       "      <td>0</td>\n",
       "      <td>-100.0</td>\n",
       "    </tr>\n",
       "    <tr>\n",
       "      <th>12730</th>\n",
       "      <td>19641</td>\n",
       "      <td>Tyler Zeller</td>\n",
       "      <td>Career</td>\n",
       "      <td>4.9</td>\n",
       "      <td>0.589744</td>\n",
       "      <td>4.6</td>\n",
       "      <td>1.111111</td>\n",
       "      <td>10.2</td>\n",
       "      <td>1</td>\n",
       "      <td>3.7</td>\n",
       "      <td>...</td>\n",
       "      <td>1.410256</td>\n",
       "      <td>8.615385</td>\n",
       "      <td>0.544</td>\n",
       "      <td>4.683761</td>\n",
       "      <td>24.1</td>\n",
       "      <td>250.0</td>\n",
       "      <td>15.5</td>\n",
       "      <td>0.231000</td>\n",
       "      <td>1</td>\n",
       "      <td>-100.0</td>\n",
       "    </tr>\n",
       "  </tbody>\n",
       "</table>\n",
       "<p>5 rows × 55 columns</p>\n",
       "</div>"
      ],
      "text/plain": [
       "       player_id             name  Season  assist_percentage   assists  \\\n",
       "15026      15122     Nerlens Noel  Career                9.5  1.583333   \n",
       "16399      11206   Justin Jackson  Career               15.6  2.661017   \n",
       "15156      18804      T.J. Warren  Career                7.4  0.971429   \n",
       "301        10656  Jorge Gutierrez  Career               23.7  3.279070   \n",
       "12730      19641     Tyler Zeller  Career                4.9  0.589744   \n",
       "\n",
       "       block_percentage    blocks  box_plus_minus  conference  \\\n",
       "15026              13.2  4.416667            12.1          24   \n",
       "16399               1.3  0.381356             8.4           1   \n",
       "15156               1.7  0.514286             9.6           1   \n",
       "301                 0.5  0.116279             5.4          22   \n",
       "12730               4.6  1.111111            10.2           1   \n",
       "\n",
       "       defensive_box_plus_minus  ...  turnovers  two_point_attempts  \\\n",
       "15026                       7.8  ...   1.875000            6.916667   \n",
       "16399                       2.0  ...   1.381356            7.161017   \n",
       "15156                       1.7  ...   1.671429           11.542857   \n",
       "301                         2.7  ...   2.124031            5.496124   \n",
       "12730                       3.7  ...   1.410256            8.615385   \n",
       "\n",
       "       two_point_percentage  two_pointers  usage_percentage  weight  \\\n",
       "15026                 0.590      4.083333              17.4   228.0   \n",
       "16399                 0.529      3.788136              23.3   193.0   \n",
       "15156                 0.598      6.900000              28.6   233.0   \n",
       "301                   0.461      2.534884              21.8   195.0   \n",
       "12730                 0.544      4.683761              24.1   250.0   \n",
       "\n",
       "       win_shares  win_shares_per_40_minutes  drafted  Ranking  \n",
       "15026         3.9                   0.206000        1      1.0  \n",
       "16399         9.7                   0.082468        1      9.0  \n",
       "15156        10.6                   0.194000        1     27.0  \n",
       "301          10.6                   0.124000        0   -100.0  \n",
       "12730        15.5                   0.231000        1   -100.0  \n",
       "\n",
       "[5 rows x 55 columns]"
      ]
     },
     "execution_count": 4,
     "metadata": {},
     "output_type": "execute_result"
    }
   ],
   "source": [
    "draft_df = df.loc[df['drafted'] == 1]\n",
    "non_draft_df = df.loc[df['drafted'] == 0][:drafted]\n",
    "\n",
    "df_sample = pd.concat([draft_df,non_draft_df]).sample(frac=1, random_state=42)\n",
    "df_sample.head()"
   ]
  },
  {
   "cell_type": "code",
   "execution_count": 5,
   "metadata": {},
   "outputs": [
    {
     "name": "stdout",
     "output_type": "stream",
     "text": [
      "Présence de joueurs non draftés : 50.0 %\n",
      "Présence de joueurs  draftés : 50.0 %\n"
     ]
    }
   ],
   "source": [
    "no_drafted, drafted = df_sample[\"drafted\"].value_counts()\n",
    "print('Présence de joueurs non draftés :',round(no_drafted/df_sample[\"drafted\"].count(),2)*100,'%')\n",
    "print('Présence de joueurs  draftés :', round(drafted/df_sample[\"drafted\"].count(),2)*100,'%')"
   ]
  },
  {
   "cell_type": "code",
   "execution_count": 74,
   "metadata": {},
   "outputs": [],
   "source": [
    "X = df_sample.drop(columns=[\"drafted\",\"Season\"])\n",
    "y = df_sample[\"drafted\"]"
   ]
  },
  {
   "cell_type": "code",
   "execution_count": 75,
   "metadata": {},
   "outputs": [],
   "source": [
    "X_train, X_test, y_train, y_test = train_test_split(X, y, test_size=0.2, random_state=42)"
   ]
  },
  {
   "cell_type": "markdown",
   "metadata": {},
   "source": [
    "### Classificiation"
   ]
  },
  {
   "cell_type": "code",
   "execution_count": 86,
   "metadata": {},
   "outputs": [],
   "source": [
    "classifiers = {\n",
    "    \"LogisiticRegression\": LogisticRegression(),\n",
    "    \"KNN\": KNeighborsClassifier(),\n",
    "    \"DecisionTreeClassifier\": DecisionTreeClassifier(),\n",
    "    \"RandomForrest\" : RandomForestClassifier()\n",
    "}"
   ]
  },
  {
   "cell_type": "code",
   "execution_count": 87,
   "metadata": {},
   "outputs": [
    {
     "name": "stdout",
     "output_type": "stream",
     "text": [
      "LogisticRegression has training score of 96.0 % accuracy score\n",
      "KNeighborsClassifier has training score of 93.0 % accuracy score\n",
      "DecisionTreeClassifier has training score of 94.0 % accuracy score\n",
      "RandomForestClassifier has training score of 97.0 % accuracy score\n"
     ]
    }
   ],
   "source": [
    "from sklearn.model_selection import cross_val_score\n",
    "\n",
    "for key, classifier in classifiers.items():\n",
    "    classifier.fit(X_train, y_train)\n",
    "    training_score = cross_val_score(classifier, X_train, y_train, cv=5)\n",
    "    print(classifier.__class__.__name__, \"has training score of\", round(training_score.mean(), 2) * 100, \"% accuracy score\")"
   ]
  },
  {
   "cell_type": "code",
   "execution_count": 89,
   "metadata": {},
   "outputs": [],
   "source": [
    "# Use GridSearchCV to find the best parameters.\n",
    "from sklearn.model_selection import GridSearchCV\n",
    "\n",
    "\n",
    "# Logistic Regression \n",
    "log_reg_params = {\"penalty\": ['l1', 'l2'], 'C': [0.001, 0.01, 0.1, 1, 10, 100, 1000]}\n",
    "\n",
    "\n",
    "\n",
    "grid_log_reg = GridSearchCV(LogisticRegression(), log_reg_params)\n",
    "grid_log_reg.fit(X_train, y_train)\n",
    "# We automatically get the logistic regression with the best parameters.\n",
    "log_reg = grid_log_reg.best_estimator_\n",
    "\n",
    "knears_params = {\"n_neighbors\": list(range(2,5,1)), 'algorithm': ['auto', 'ball_tree', 'kd_tree', 'brute']}\n",
    "\n",
    "grid_knears = GridSearchCV(KNeighborsClassifier(), knears_params)\n",
    "grid_knears.fit(X_train, y_train)\n",
    "# KNears best estimator\n",
    "knears_neighbors = grid_knears.best_estimator_\n",
    "\n",
    "# DecisionTree Classifier\n",
    "tree_params = {\"criterion\": [\"gini\", \"entropy\"], \"max_depth\": list(range(2,4,1)), \n",
    "              \"min_samples_leaf\": list(range(5,7,1))}\n",
    "grid_tree = GridSearchCV(DecisionTreeClassifier(), tree_params)\n",
    "grid_tree.fit(X_train, y_train)\n",
    "\n",
    "# tree best estimator\n",
    "tree_clf = grid_tree.best_estimator_"
   ]
  },
  {
   "cell_type": "code",
   "execution_count": 90,
   "metadata": {},
   "outputs": [
    {
     "name": "stdout",
     "output_type": "stream",
     "text": [
      "Logistic Regression Cross Validation Score:  95.84%\n",
      "Knears Neighbors Cross Validation Score 93.24%\n",
      "DecisionTree Classifier Cross Validation Score 94.67%\n"
     ]
    }
   ],
   "source": [
    "log_reg_score = cross_val_score(log_reg, X_train, y_train, cv=5)\n",
    "print('Logistic Regression Cross Validation Score: ', round(log_reg_score.mean() * 100, 2).astype(str) + '%')\n",
    "\n",
    "\n",
    "knears_score = cross_val_score(knears_neighbors, X_train, y_train, cv=5)\n",
    "print('Knears Neighbors Cross Validation Score', round(knears_score.mean() * 100, 2).astype(str) + '%')\n",
    "\n",
    "\n",
    "tree_score = cross_val_score(tree_clf, X_train, y_train, cv=5)\n",
    "print('DecisionTree Classifier Cross Validation Score', round(tree_score.mean() * 100, 2).astype(str) + '%')"
   ]
  }
 ],
 "metadata": {
  "kernelspec": {
   "display_name": "Python 3",
   "language": "python",
   "name": "python3"
  },
  "language_info": {
   "codemirror_mode": {
    "name": "ipython",
    "version": 3
   },
   "file_extension": ".py",
   "mimetype": "text/x-python",
   "name": "python",
   "nbconvert_exporter": "python",
   "pygments_lexer": "ipython3",
   "version": "3.8.3"
  }
 },
 "nbformat": 4,
 "nbformat_minor": 4
}
