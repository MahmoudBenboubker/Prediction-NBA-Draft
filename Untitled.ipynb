{
 "cells": [
  {
   "cell_type": "code",
   "execution_count": 1,
   "metadata": {},
   "outputs": [],
   "source": [
    "import pandas as pd\n",
    "import matplotlib.pyplot as plt\n",
    "import numpy as np\n",
    "from sklearn.model_selection import train_test_split, cross_val_score\n",
    "from sklearn import metrics\n",
    "import seaborn as sns\n",
    "SEED = 42"
   ]
  },
  {
   "cell_type": "code",
   "execution_count": 7,
   "metadata": {},
   "outputs": [
    {
     "data": {
      "text/html": [
       "<div>\n",
       "<style scoped>\n",
       "    .dataframe tbody tr th:only-of-type {\n",
       "        vertical-align: middle;\n",
       "    }\n",
       "\n",
       "    .dataframe tbody tr th {\n",
       "        vertical-align: top;\n",
       "    }\n",
       "\n",
       "    .dataframe thead th {\n",
       "        text-align: right;\n",
       "    }\n",
       "</style>\n",
       "<table border=\"1\" class=\"dataframe\">\n",
       "  <thead>\n",
       "    <tr style=\"text-align: right;\">\n",
       "      <th></th>\n",
       "      <th>player_id</th>\n",
       "      <th>name</th>\n",
       "      <th>Season</th>\n",
       "      <th>assist_percentage</th>\n",
       "      <th>assists</th>\n",
       "      <th>block_percentage</th>\n",
       "      <th>blocks</th>\n",
       "      <th>box_plus_minus</th>\n",
       "      <th>conference</th>\n",
       "      <th>defensive_box_plus_minus</th>\n",
       "      <th>...</th>\n",
       "      <th>turnovers</th>\n",
       "      <th>two_point_attempts</th>\n",
       "      <th>two_point_percentage</th>\n",
       "      <th>two_pointers</th>\n",
       "      <th>usage_percentage</th>\n",
       "      <th>weight</th>\n",
       "      <th>win_shares</th>\n",
       "      <th>win_shares_per_40_minutes</th>\n",
       "      <th>drafted</th>\n",
       "      <th>Ranking</th>\n",
       "    </tr>\n",
       "  </thead>\n",
       "  <tbody>\n",
       "    <tr>\n",
       "      <th>0</th>\n",
       "      <td>6903</td>\n",
       "      <td>Evan Washington</td>\n",
       "      <td>Career</td>\n",
       "      <td>19.2</td>\n",
       "      <td>2.637097</td>\n",
       "      <td>1.5</td>\n",
       "      <td>0.379032</td>\n",
       "      <td>1.300000</td>\n",
       "      <td>19</td>\n",
       "      <td>1.3000</td>\n",
       "      <td>...</td>\n",
       "      <td>2.032258</td>\n",
       "      <td>4.991935</td>\n",
       "      <td>0.477</td>\n",
       "      <td>2.379032</td>\n",
       "      <td>18.1</td>\n",
       "      <td>200.0</td>\n",
       "      <td>7.0</td>\n",
       "      <td>0.070</td>\n",
       "      <td>0</td>\n",
       "      <td>-100.0</td>\n",
       "    </tr>\n",
       "    <tr>\n",
       "      <th>1</th>\n",
       "      <td>14342</td>\n",
       "      <td>Michael Lyons</td>\n",
       "      <td>Career</td>\n",
       "      <td>15.3</td>\n",
       "      <td>1.860870</td>\n",
       "      <td>1.1</td>\n",
       "      <td>0.234783</td>\n",
       "      <td>2.400000</td>\n",
       "      <td>19</td>\n",
       "      <td>-1.2000</td>\n",
       "      <td>...</td>\n",
       "      <td>1.982609</td>\n",
       "      <td>6.547826</td>\n",
       "      <td>0.541</td>\n",
       "      <td>3.539130</td>\n",
       "      <td>26.7</td>\n",
       "      <td>193.0</td>\n",
       "      <td>9.0</td>\n",
       "      <td>0.103</td>\n",
       "      <td>0</td>\n",
       "      <td>-100.0</td>\n",
       "    </tr>\n",
       "    <tr>\n",
       "      <th>2</th>\n",
       "      <td>18829</td>\n",
       "      <td>Todd Fletcher</td>\n",
       "      <td>Career</td>\n",
       "      <td>22.5</td>\n",
       "      <td>2.951613</td>\n",
       "      <td>0.4</td>\n",
       "      <td>0.088710</td>\n",
       "      <td>1.200000</td>\n",
       "      <td>19</td>\n",
       "      <td>0.5000</td>\n",
       "      <td>...</td>\n",
       "      <td>1.387097</td>\n",
       "      <td>2.500000</td>\n",
       "      <td>0.555</td>\n",
       "      <td>1.387097</td>\n",
       "      <td>14.8</td>\n",
       "      <td>183.0</td>\n",
       "      <td>8.0</td>\n",
       "      <td>0.093</td>\n",
       "      <td>0</td>\n",
       "      <td>-100.0</td>\n",
       "    </tr>\n",
       "    <tr>\n",
       "      <th>3</th>\n",
       "      <td>1589</td>\n",
       "      <td>Avery Merriex</td>\n",
       "      <td>Career</td>\n",
       "      <td>12.4</td>\n",
       "      <td>0.657143</td>\n",
       "      <td>0.4</td>\n",
       "      <td>0.028571</td>\n",
       "      <td>-3.023823</td>\n",
       "      <td>19</td>\n",
       "      <td>-0.5633</td>\n",
       "      <td>...</td>\n",
       "      <td>0.600000</td>\n",
       "      <td>0.985714</td>\n",
       "      <td>0.420</td>\n",
       "      <td>0.414286</td>\n",
       "      <td>10.9</td>\n",
       "      <td>190.0</td>\n",
       "      <td>0.2</td>\n",
       "      <td>0.008</td>\n",
       "      <td>0</td>\n",
       "      <td>-100.0</td>\n",
       "    </tr>\n",
       "    <tr>\n",
       "      <th>4</th>\n",
       "      <td>17732</td>\n",
       "      <td>Shawn Hempsey</td>\n",
       "      <td>Career</td>\n",
       "      <td>19.5</td>\n",
       "      <td>0.795455</td>\n",
       "      <td>0.3</td>\n",
       "      <td>0.022727</td>\n",
       "      <td>-4.000000</td>\n",
       "      <td>19</td>\n",
       "      <td>0.7000</td>\n",
       "      <td>...</td>\n",
       "      <td>0.511364</td>\n",
       "      <td>0.659091</td>\n",
       "      <td>0.466</td>\n",
       "      <td>0.306818</td>\n",
       "      <td>12.4</td>\n",
       "      <td>180.0</td>\n",
       "      <td>0.2</td>\n",
       "      <td>0.010</td>\n",
       "      <td>0</td>\n",
       "      <td>-100.0</td>\n",
       "    </tr>\n",
       "  </tbody>\n",
       "</table>\n",
       "<p>5 rows × 55 columns</p>\n",
       "</div>"
      ],
      "text/plain": [
       "   player_id             name  Season  assist_percentage   assists  \\\n",
       "0       6903  Evan Washington  Career               19.2  2.637097   \n",
       "1      14342    Michael Lyons  Career               15.3  1.860870   \n",
       "2      18829    Todd Fletcher  Career               22.5  2.951613   \n",
       "3       1589    Avery Merriex  Career               12.4  0.657143   \n",
       "4      17732    Shawn Hempsey  Career               19.5  0.795455   \n",
       "\n",
       "   block_percentage    blocks  box_plus_minus  conference  \\\n",
       "0               1.5  0.379032        1.300000          19   \n",
       "1               1.1  0.234783        2.400000          19   \n",
       "2               0.4  0.088710        1.200000          19   \n",
       "3               0.4  0.028571       -3.023823          19   \n",
       "4               0.3  0.022727       -4.000000          19   \n",
       "\n",
       "   defensive_box_plus_minus  ...  turnovers  two_point_attempts  \\\n",
       "0                    1.3000  ...   2.032258            4.991935   \n",
       "1                   -1.2000  ...   1.982609            6.547826   \n",
       "2                    0.5000  ...   1.387097            2.500000   \n",
       "3                   -0.5633  ...   0.600000            0.985714   \n",
       "4                    0.7000  ...   0.511364            0.659091   \n",
       "\n",
       "   two_point_percentage  two_pointers  usage_percentage  weight  win_shares  \\\n",
       "0                 0.477      2.379032              18.1   200.0         7.0   \n",
       "1                 0.541      3.539130              26.7   193.0         9.0   \n",
       "2                 0.555      1.387097              14.8   183.0         8.0   \n",
       "3                 0.420      0.414286              10.9   190.0         0.2   \n",
       "4                 0.466      0.306818              12.4   180.0         0.2   \n",
       "\n",
       "   win_shares_per_40_minutes  drafted  Ranking  \n",
       "0                      0.070        0   -100.0  \n",
       "1                      0.103        0   -100.0  \n",
       "2                      0.093        0   -100.0  \n",
       "3                      0.008        0   -100.0  \n",
       "4                      0.010        0   -100.0  \n",
       "\n",
       "[5 rows x 55 columns]"
      ]
     },
     "execution_count": 7,
     "metadata": {},
     "output_type": "execute_result"
    }
   ],
   "source": [
    "df = pd.read_csv('data/ncaa_final.csv', index_col=0)\n",
    "df.head()"
   ]
  },
  {
   "cell_type": "code",
   "execution_count": 8,
   "metadata": {},
   "outputs": [
    {
     "data": {
      "text/plain": [
       "0    20068\n",
       "1      481\n",
       "Name: drafted, dtype: int64"
      ]
     },
     "execution_count": 8,
     "metadata": {},
     "output_type": "execute_result"
    }
   ],
   "source": [
    "df[\"drafted\"].value_counts()"
   ]
  },
  {
   "cell_type": "code",
   "execution_count": 27,
   "metadata": {},
   "outputs": [],
   "source": [
    "from sklearn.model_selection import train_test_split\n",
    "X = df[[\"position\"]]\n",
    "y = df[\"drafted\"]\n",
    "X_train, X_test, y_train, y_test = train_test_split(X, y, test_size=0.5)"
   ]
  },
  {
   "cell_type": "code",
   "execution_count": 28,
   "metadata": {},
   "outputs": [
    {
     "data": {
      "text/plain": [
       "0.9770316301703164"
      ]
     },
     "execution_count": 28,
     "metadata": {},
     "output_type": "execute_result"
    }
   ],
   "source": [
    "from sklearn.linear_model import LogisticRegression\n",
    "log_reg = LogisticRegression()\n",
    "log_reg.fit(X_train,y_train)\n",
    "predict_test = log_reg.predict(X_test)\n",
    "log_reg.score(X_test,y_test)"
   ]
  },
  {
   "cell_type": "code",
   "execution_count": 29,
   "metadata": {},
   "outputs": [
    {
     "data": {
      "text/plain": [
       "<matplotlib.collections.PathCollection at 0x1f0ccfe4670>"
      ]
     },
     "execution_count": 29,
     "metadata": {},
     "output_type": "execute_result"
    },
    {
     "data": {
      "image/png": "[encoded data removed]",
      "text/plain": [
       "<Figure size 432x288 with 1 Axes>"
      ]
     },
     "metadata": {
      "needs_background": "light"
     },
     "output_type": "display_data"
    }
   ],
   "source": [
    "plt.scatter(X,y)"
   ]
  }
 ],
 "metadata": {
  "kernelspec": {
   "display_name": "Python 3",
   "language": "python",
   "name": "python3"
  },
  "language_info": {
   "codemirror_mode": {
    "name": "ipython",
    "version": 3
   },
   "file_extension": ".py",
   "mimetype": "text/x-python",
   "name": "python",
   "nbconvert_exporter": "python",
   "pygments_lexer": "ipython3",
   "version": "3.8.3"
  }
 },
 "nbformat": 4,
 "nbformat_minor": 4
}
